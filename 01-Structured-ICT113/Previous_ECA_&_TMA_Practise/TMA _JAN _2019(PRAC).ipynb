{
 "cells": [
  {
   "cell_type": "markdown",
   "metadata": {},
   "source": [
    "<br>\n",
    "<h1 style=\"color:green;text-align:center;\">\n",
    "    Tutorial Assignment (TMA)\n",
    "</h1>\n",
    "<p style=\"text-align:right;\">Jan 2019</p>\n",
    "<hr>\n",
    "<br>\n",
    "<br>"
   ]
  },
  {
   "cell_type": "markdown",
   "metadata": {},
   "source": [
    "<br>\n",
    "<h2 style=\"color:blue;text-align:center;\">\n",
    "    Question 1\n",
    "</h2>\n",
    "<br>"
   ]
  },
  {
   "cell_type": "markdown",
   "metadata": {},
   "source": [
    "<h5>>>> 1(a)</h5>"
   ]
  },
  {
   "cell_type": "markdown",
   "metadata": {},
   "source": [
    "<h3>\n",
    "    Formatting days into proper displays\n",
    "</h3>"
   ]
  },
  {
   "cell_type": "markdown",
   "metadata": {},
   "source": [
    "<h5>>>> 1(a)(i)</h5>\n",
    "<br>\n",
    "<b>Requirements:</b><br>\n",
    "function prompts a user to enter a number which represents a duration in days. Assume that a year has 365 days and a month<br>has 30.41 days.\n",
    "Assume that a year has 365 days and a month has 30.41 days."
   ]
  },
  {
   "cell_type": "code",
   "execution_count": 10,
   "metadata": {},
   "outputs": [
    {
     "name": "stdout",
     "output_type": "stream",
     "text": [
      "Enter time in days:21\n",
      "0 years 0 months 21 days\n"
     ]
    }
   ],
   "source": [
    "def convertDayi():\n",
    "    \n",
    "    convert = int(input('Enter time in days:'))\n",
    "    \n",
    "    years = convert // 365\n",
    "    carry = convert % 365\n",
    "    months= int(carry // 30.41)\n",
    "    days  = int(carry % 30.41)\n",
    "    \n",
    "    print(f\"{years} years {months} months {days} days\")\n",
    "    \n",
    "convertDayi()"
   ]
  },
  {
   "cell_type": "markdown",
   "metadata": {},
   "source": [
    "<h5>>>> 1(a)(ii)</h5>"
   ]
  },
  {
   "cell_type": "code",
   "execution_count": 9,
   "metadata": {},
   "outputs": [
    {
     "name": "stdin",
     "output_type": "stream",
     "text": [
      "Enter time in days: 13.55\n"
     ]
    },
    {
     "name": "stdout",
     "output_type": "stream",
     "text": [
      "0.0 years 0.0 months 13 days 13 hours 12 min\n"
     ]
    }
   ],
   "source": [
    "def convertDayii():\n",
    "    \n",
    "    convert = float(input('Enter time in days:'))\n",
    "    \n",
    "    years = convert // 365\n",
    "    carry = convert % 365\n",
    "    months= carry // 30.41\n",
    "    carry = carry % 30.41\n",
    "    days  = int(carry)\n",
    "    carry = carry - days\n",
    "    hours = int(24 * carry)\n",
    "    carry = (carry*24) - hours\n",
    "    mins  = int(60 * carry)\n",
    "    \n",
    "    print(f\"{years} years {months} months {days} days {hours} hours {mins} min\")\n",
    "\n",
    "    \n",
    "convertDayii()    "
   ]
  },
  {
   "cell_type": "markdown",
   "metadata": {},
   "source": [
    "<br>\n",
    "<h5>>>> 1(b)</h5>"
   ]
  },
  {
   "cell_type": "markdown",
   "metadata": {},
   "source": [
    "<h3>\n",
    "    Do the two point cross the Y and X axis ?\n",
    "</h3>\n",
    "<br>\n",
    "<b>Requirements:</b><br>\n",
    "Python function crosses(), to determine whether the line formed between 2 points (𝑥1,𝑦1)<br>\n",
    "and (𝑥2,𝑦2) crosses the x- and/or y-axis."
   ]
  },
  {
   "cell_type": "code",
   "execution_count": 153,
   "metadata": {},
   "outputs": [
    {
     "name": "stdin",
     "output_type": "stream",
     "text": [
      "Enter x-coordinate of first point:  1\n",
      "Enter y-coordinate of first point:  10\n",
      "Enter x-coordinate of second point:  -1\n",
      "Enter y-coordinate of second point:  -20\n"
     ]
    },
    {
     "name": "stdout",
     "output_type": "stream",
     "text": [
      "Line crosses both x and y axes\n"
     ]
    }
   ],
   "source": [
    "def get_input():\n",
    "    \n",
    "    f_x = float(input('Enter x-coordinate of first point: '))\n",
    "    f_y = float(input('Enter y-coordinate of first point: '))\n",
    "    \n",
    "    s_x = float(input('Enter x-coordinate of second point: '))\n",
    "    s_y = float(input('Enter y-coordinate of second point: '))\n",
    "    \n",
    "    return ((f_x,f_y),(s_x,s_y))\n",
    "\n",
    "def crosses_axis(ax1, ax2):\n",
    "    \n",
    "    return (ax1 < 0 < ax2 or ax2 < 0 < ax1)\n",
    "\n",
    "\n",
    "def crosses():\n",
    "    \n",
    "    f,s = get_input()\n",
    "    intercept_y = crosses_axis(f[0],s[0])\n",
    "    intercept_x = crosses_axis(f[1],s[1])\n",
    "    \n",
    "    if intercept_y and intercept_x:\n",
    "        print('Line crosses both x and y axes')\n",
    "    elif intercept_x:\n",
    "        print('Line crosses x axis only')\n",
    "    elif intercept_y:\n",
    "        print('Line crosses y axis only')\n",
    "    else:\n",
    "        print('Line does not cross both x and y axes')\n",
    "        \n",
    "crosses()"
   ]
  },
  {
   "cell_type": "markdown",
   "metadata": {},
   "source": [
    "<br>\n",
    "<h2 style=\"color:blue;text-align:center;\">\n",
    "    Question 3\n",
    "</h2>\n",
    "<br>"
   ]
  },
  {
   "cell_type": "markdown",
   "metadata": {},
   "source": [
    "<h5>>>> 3(a)</h5>"
   ]
  },
  {
   "cell_type": "markdown",
   "metadata": {},
   "source": [
    "<h3>\n",
    "    Guess the word ? (5 tries)\n",
    "</h3>\n",
    "<br>\n",
    "<b>Requirements:</b><br>\n",
    "Python program to implement a spelling game that a player can play repeatedly.<br>\n",
    "Assume these TEN (10) words are stored as a string:"
   ]
  },
  {
   "cell_type": "code",
   "execution_count": 148,
   "metadata": {},
   "outputs": [
    {
     "name": "stdout",
     "output_type": "stream",
     "text": [
      "The word has 8 letters. Try to spell it in 5 Tires\n"
     ]
    },
    {
     "name": "stdin",
     "output_type": "stream",
     "text": [
      "Try 1 - Current: -------- - Your guess? a\n"
     ]
    },
    {
     "name": "stdout",
     "output_type": "stream",
     "text": [
      "Outcome: --------\n"
     ]
    },
    {
     "name": "stdin",
     "output_type": "stream",
     "text": [
      "Try 2 - Current: -------- - Your guess? m\n"
     ]
    },
    {
     "name": "stdout",
     "output_type": "stream",
     "text": [
      "Outcome: m-------\n"
     ]
    },
    {
     "name": "stdin",
     "output_type": "stream",
     "text": [
      "Do you want spell the word now? (y/n):  n\n",
      "Try 3 - Current: m------- - Your guess? e\n"
     ]
    },
    {
     "name": "stdout",
     "output_type": "stream",
     "text": [
      "Outcome: me-----e\n"
     ]
    },
    {
     "name": "stdin",
     "output_type": "stream",
     "text": [
      "Do you want spell the word now? (y/n):  n\n",
      "Try 4 - Current: me-----e - Your guess? l\n"
     ]
    },
    {
     "name": "stdout",
     "output_type": "stream",
     "text": [
      "Outcome: me-----e\n"
     ]
    },
    {
     "name": "stdin",
     "output_type": "stream",
     "text": [
      "Do you want spell the word now? (y/n):  n\n",
      "Try 5 - Current: me-----e - Your guess? f\n"
     ]
    },
    {
     "name": "stdout",
     "output_type": "stream",
     "text": [
      "You are incorrect.\n",
      "The correct word is meringue\n"
     ]
    },
    {
     "name": "stdin",
     "output_type": "stream",
     "text": [
      "Spell another word? (y/n): n\n"
     ]
    },
    {
     "name": "stdout",
     "output_type": "stream",
     "text": [
      "\n",
      "13 Remaining words:\n",
      "albumen\n",
      "foulard\n",
      "eudaemonic\n",
      "narcolepsy\n",
      "elucubrate\n",
      "vivisepulture\n",
      "pococurante\n",
      "cymotrichous\n",
      "malfeasance\n",
      "idiot\n",
      "joy\n",
      "eat\n",
      "gym\n"
     ]
    }
   ],
   "source": [
    "from random import choice\n",
    "\n",
    "def checkLenGuessWords(guess_words_list):\n",
    "    for letters in guess_words_list:\n",
    "        if letters!='-':\n",
    "            return True\n",
    "    return False    \n",
    "\n",
    "def checkWord(random_word_list,guess_words_list,tries,word_list):\n",
    "    \n",
    "    \n",
    "    spellNow = input('Do you want spell the word now? (y/n): ').lower()\n",
    "    while spellNow!='y' and spellNow!='n':\n",
    "        print(\"Invalid ENtry !\")\n",
    "        spellNow = input('Do you want spell the word now? (y/n): ').lower()\n",
    "    \n",
    "    if spellNow=='y':\n",
    "        \n",
    "        wordd = input('Spell the complete word:')\n",
    "        \n",
    "        if wordd == ''.join(random_word_list):\n",
    "            print(f'You are correct!\\nThe correct word is {wordd}')\n",
    "            word_list.remove(wordd)\n",
    "        else:\n",
    "            print(\"You are incorrect.\\nThe correct word is {0}\".format(''.join(random_word_list)))\n",
    "            word_list.remove(''.join(random_word_list))\n",
    "        return True\n",
    "    else:\n",
    "        return checkLetter(random_word_list,guess_words_list,tries,word_list)\n",
    "    \n",
    "def checkLetter(random_word_list,guess_words_list,tries,word_list):\n",
    "    \n",
    "    guess_words = ''.join(guess_words_list)\n",
    "    \n",
    "    guess_letter = input(f\"Try {tries} - Current: {guess_words} - Your guess?\")\n",
    "    \n",
    "    for index,letter in enumerate(random_word_list):\n",
    "        if guess_letter == letter:\n",
    "            guess_words_list[index]=letter\n",
    "    guess_words = ''.join(guess_words_list)\n",
    "    if guess_words == ''.join(random_word_list):\n",
    "        print(f'You are correct!\\nThe correct word is {guess_words}')        \n",
    "        word_list.remove(guess_words)\n",
    "        return True\n",
    "    else:\n",
    "        if tries==5:\n",
    "            print(\"You are incorrect.\\nThe correct word is {0}\".format(''.join(random_word_list)))\n",
    "            word_list.remove(''.join(random_word_list))\n",
    "        else:\n",
    "            print(f\"Outcome: {guess_words}\")\n",
    "        return False\n",
    "    \n",
    "def remaingWords(word_list):\n",
    "    \n",
    "    if len(word_list)==0:\n",
    "        print('All Words Are Correctly Guess Good Job!')\n",
    "    else:\n",
    "        print(f'\\n{len(word_list)} Remaining words:')\n",
    "        for words in word_list:\n",
    "            print(words)\n",
    "\n",
    "def replay():\n",
    "        \n",
    "    replay = input('Spell another word? (y/n):').lower()\n",
    "    while replay[0]!='y' and replay[0]!='n':\n",
    "        print(\"Invalid Entry\")\n",
    "        replay = input('Spell another word? (y/n):').lower()\n",
    "    if replay=='y':\n",
    "        return True\n",
    "    else:\n",
    "        return False\n",
    "    \n",
    "def main():\n",
    "    \n",
    "    #unique\n",
    "    words ='meringue albumen foulard eudaemonic narcolepsy elucubrate vivisepulture pococurante cymotrichous malfeasance idiot joy eat gym'       \n",
    "    word_list = words.split()\n",
    "    \n",
    "    while True:\n",
    "        \n",
    "        random_word = choice(word_list)\n",
    "        random_word_list = list(random_word)\n",
    "        guess_words_list=['-' for x in range(len(random_word_list))]\n",
    "        print(f\"The word has {len(random_word_list)} letters. Try to spell it in 5 Tires\")\n",
    "        \n",
    "        tries=1\n",
    "        while tries<6:\n",
    "            if checkLenGuessWords(guess_words_list):\n",
    "                if checkWord(random_word_list,guess_words_list,tries,word_list):\n",
    "                    break\n",
    "            else:\n",
    "                checkLetter(random_word,guess_words_list,tries,word_list)                    \n",
    "            \n",
    "            tries+=1\n",
    "        if not len(word_list):\n",
    "            break\n",
    "        \n",
    "        if not replay():\n",
    "            break\n",
    "    remaingWords(word_list)\n",
    "\n",
    "main()"
   ]
  },
  {
   "cell_type": "markdown",
   "metadata": {},
   "source": [
    "<br>\n",
    "<h5>>>> 3(b)</h5>"
   ]
  },
  {
   "cell_type": "markdown",
   "metadata": {},
   "source": [
    "<h3>\n",
    "    Does it fit the line ?\n",
    "</h3>\n",
    "<br>\n",
    "<b>Requirements:</b><br>\n",
    "program that uses the least square method to find the equation for the best-fitted line for a given set of points<br>\n",
    "read from the file, points.dat which you should create with this content<br>"
   ]
  },
  {
   "cell_type": "code",
   "execution_count": 189,
   "metadata": {},
   "outputs": [
    {
     "name": "stdout",
     "output_type": "stream",
     "text": [
      "Equation of line y = 2.08x\n"
     ]
    },
    {
     "name": "stdin",
     "output_type": "stream",
     "text": [
      "Enter x coordinate or <ENTER> to end: \n"
     ]
    },
    {
     "name": "stdout",
     "output_type": "stream",
     "text": [
      "Program Ended!\n"
     ]
    }
   ],
   "source": [
    "def getPoints():\n",
    "    \n",
    "    points_list = []    \n",
    "    with open('points.dat.txt') as infile:    \n",
    "        for line in infile:\n",
    "            points_list.append(list(map(lambda x: float(x),l.strip().split(','))))                \n",
    "    return points_list\n",
    "                               \n",
    "def gradient(points_list):\n",
    "    \n",
    "    numo = 0\n",
    "    deno = 0\n",
    "    \n",
    "    for points in points_list:\n",
    "        numo+= points[0]*points[1]\n",
    "        deno+= points[0]**2\n",
    "    return numo/deno\n",
    "\n",
    "def check(x,y,k):\n",
    "    \n",
    "    if y==x*k:\n",
    "        print(f'({x},{y}) is on the fitted line')\n",
    "    else:\n",
    "        print(f'({x},{y}) is not on the fitted line')\n",
    "\n",
    "def main():\n",
    "    \n",
    "    points_list = getPoints()\n",
    "    k = round(gradient(points_list),2)    \n",
    "    print(f\"Equation of line y = {k}x\")    \n",
    "    while True:\n",
    "        x = input('Enter x coordinate or <ENTER> to end:')\n",
    "        if not x:\n",
    "            print('Program Ended!')\n",
    "            break\n",
    "        y= float(input('Enter y coordinate :'))\n",
    "        \n",
    "        check(float(x),y,k)\n",
    "        \n",
    "main()        "
   ]
  },
  {
   "cell_type": "markdown",
   "metadata": {},
   "source": [
    "<br>\n",
    "<h2 style=\"color:blue;text-align:center;\">\n",
    "    Question 4\n",
    "</h2>\n",
    "<br>"
   ]
  },
  {
   "cell_type": "markdown",
   "metadata": {},
   "source": [
    "<br>\n",
    "<br>\n",
    "<h3>\n",
    "    Stock Portfolio Record Keeper\n",
    "</h3>\n",
    "<br>\n",
    "<b>Requirements:</b><br>\n",
    "A client wishes to keep track of his investment in shares.<br>\n",
    "Write a program to help him manage his stock portfolio. <br>\n",
    "You are to record both the shares that he is holding as well as shares that he has sold."
   ]
  },
  {
   "cell_type": "code",
   "execution_count": 185,
   "metadata": {},
   "outputs": [
    {
     "name": "stdout",
     "output_type": "stream",
     "text": [
      "Menu\n",
      "1. List Holding and Sold details for a Stock\n",
      "2. Buy Stock\n",
      "3. Sell Stock\n",
      "4. list Holdings\n",
      "5. list Sold Stock\n",
      "0. Exit\n"
     ]
    },
    {
     "name": "stdin",
     "output_type": "stream",
     "text": [
      "Enter choice: 0\n"
     ]
    }
   ],
   "source": [
    "\n",
    "def menu():\n",
    "    \n",
    "    print(\"\"\"Menu\n",
    "1. List Holding and Sold details for a Stock\n",
    "2. Buy Stock\n",
    "3. Sell Stock\n",
    "4. list Holdings\n",
    "5. list Sold Stock\n",
    "0. Exit\"\"\")\n",
    "    \n",
    "        \n",
    "    option = int(input('Enter choice:'))\n",
    "    while option<0 or option>5:\n",
    "        print(\"\"\"Menu\n",
    "1. List Holding and Sold details for a Stock\n",
    "2. Buy Stock\n",
    "3. Sell Stock\n",
    "4. list Holdings\n",
    "5. list Sold Stock\n",
    "0. Exit\"\"\")\n",
    "        option = int(input('Enter choice:'))\n",
    "    return option\n",
    "        \n",
    "\n",
    "\n",
    "def listHoldingsandSellingStocls(shareholders_purchase,shareholders_sold):\n",
    "            \n",
    "    code = input('Code:')\n",
    "    if not code in shareholders_purchase and not code in shareholders_sold:\n",
    "        print(\"code not found!\")        \n",
    "    else:        \n",
    "        if  code in shareholders_purchase :\n",
    "            print(\"Held Stock Details:\\n\")\n",
    "            print(f\"Code: {code}\")\n",
    "            print(f\"Name: {shareholders_purchase[code][0]}\")\n",
    "            print(f\"Last Purchase Date: {shareholders_purchase[code][1]}\")\n",
    "            print(f\"Average Price ${shareholders_purchase[code][2]}\")\n",
    "            print(f\"Volume: {shareholders_purchase[code][3]}\")\n",
    "            print(f\"Investment Cost ($): {(shareholders_purchase[code][2]*shareholders_purchase[code][3]):0.2f}\")\n",
    "            print('---------------------------------------')            \n",
    "        if code in shareholders_sold:\n",
    "            print('\\nSold Stock Details:\\n')\n",
    "            print(f\"Code: {code}\")\n",
    "            print(f\"Name: {shareholders_sold[code][0]}\")\n",
    "            print(f\"Last Sold Date: {shareholders_sold[code][1]}\")\n",
    "            print(f\"Volume: {shareholders_sold[code][2]}\")            \n",
    "            print(f\"Profit/Loss ($): {shareholders_sold[3]}\")\n",
    "            print('---------------------------------------')\n",
    "\n",
    "def buyStock(shareholders_purchase):\n",
    "    \n",
    "    code = input('Enter stock code:')\n",
    "    while not code:\n",
    "        code = input('Please Re-Enter a valid stock code: ')\n",
    "    if not code in  shareholders_purchase:\n",
    "        print('You are buying new stock')\n",
    "        name = input('Enter name: ')\n",
    "        price = float(input('Enter current price per unit: $'))\n",
    "        volume = int(input('Enter number of stocks:'))\n",
    "        date_purchase = input('Enter date of purchase (dd/mm/yyyy):')\n",
    "        shareholders_purchase[code]=[name,date_purchase,price,volume]\n",
    "        print('Held Stock Details:')\n",
    "        print(f\"Code: {code}\")\n",
    "        print(f\"Name: {name}\")\n",
    "        print(f\"Last Purchase Date: {date_purchase}\")\n",
    "        print(f\"Average Price ${price:0.2f}\")\n",
    "        print(f\"Volume: {volume}\")\n",
    "        print(f\"Investment Cost ($): {(price*volume):0.2f}\")\n",
    "        print('---------------------------------------')\n",
    "    else:\n",
    "        print(f\"You are buying existing stock - {shareholders_purchase[code][0]}\")\n",
    "        price = float(input('Enter current price per unit: $'))\n",
    "        volume = int(input('Enter number of stocks:'))\n",
    "        date_purchase = input('Enter date of purchase (dd/mm/yyyy):')\n",
    "        \n",
    "        shareholders_purchase[code][1] = date_purchase\n",
    "        past_vol = shareholders_purchase[code][3]\n",
    "        shareholders_purchase[code][3]+=volume\n",
    "        new_vol = shareholders_purchase[code][3]\n",
    "        past_price = shareholders_purchase[code][2]\n",
    "        average_price = ((past_vol*past_price)+(new_vol*price))/(new_vol+past_vol)\n",
    "        shareholders_purchase[code][2] = average_price\n",
    "        \n",
    "        print('Held Stock Details:')\n",
    "        print(f\"Code: {code}\")\n",
    "        print(f\"Name: {shareholders_purchase[code][0]}\")\n",
    "        print(f\"Last Purchase Date: {date_purchase}\")\n",
    "        print(f\"Average Price ${average_price:0.2f}\")\n",
    "        print(f\"Volume: {shareholders_purchase[code][3]}\")\n",
    "        print(f\"Investment Cost ($): {(average_price*shareholders_purchase[code][3]):0.2f}\")\n",
    "        print('---------------------------------------')\n",
    "\n",
    "\n",
    "def sellStock(shareholders_purchase,shareholders_sold):\n",
    "    \n",
    "    code = input('Enter stock code:')\n",
    "    \n",
    "    if not code in shareholders_purchase:\n",
    "        print('Error: code not found!')\n",
    "    else:\n",
    "        print(f\"You are selling this stock: {shareholders_purchase[code][0]}\")\n",
    "        \n",
    "        price = float(input('Enter current price per unit:'))\n",
    "        while price<=0:\n",
    "            print(\"Invalid Entry!\")\n",
    "            price = float(input('Enter current price per unit:'))\n",
    "        vol = int(input('Enter number of stocks:'))\n",
    "        while vol<=0:\n",
    "            print('Invalid Entry!')\n",
    "            vol = int(input('Enter number of stocks:'))\n",
    "        if vol>shareholders_purchase[code][3]:\n",
    "            print('You do not have sufficient shares to sell!')\n",
    "        else:\n",
    "            date_sold = input('Enter date (dd/mm/yyyy):')\n",
    "            proft_loss = (price-shareholders_purchase[code][2])* vol\n",
    "            if not code in shareholders_sold:\n",
    "                shareholders_sold[code] = [shareholders_purchase[code][0],date_sold,vol,proft_loss]\n",
    "            else:\n",
    "                shareholders_sold[code][1]=date_sold\n",
    "                shareholders_sold[code][2]+=vol\n",
    "                shareholders_sold[code][3]+=proft_loss\n",
    "            shareholders_purchase[code][3]-=vol\n",
    "            if proft_loss>0:\n",
    "                status = 'Profit'\n",
    "            elif proft_loss<0:\n",
    "                status = 'Loss'\n",
    "            else:\n",
    "                status = 'No profit and loss'\n",
    "            print(f\"You have made a {status} of ${proft_loss:0.2f} in this transaction.\")\n",
    "            print(f\"You have a remaining volume of {shareholders_purchase[code][3]} shares in your holdings.\")\n",
    "            if  shareholders_purchase[code][3]:\n",
    "                print('Held Stock Details:')\n",
    "                print(f\"Code: {code}\")\n",
    "                print(f\"Last Purchase Date: {shareholders_purchase[code][1]}\")\n",
    "                print(f\"Avergae Price ($): {shareholders_purchase[code][2]:0.2f}\")\n",
    "                print(f\"Volume: {shareholders_purchase[code][3]}\")\n",
    "                print(f\"Investment Cost ($): {(shareholders_purchase[code][2]*shareholders_purchase[code][3]):0.2f}\")\n",
    "                print('-----------------------------------------------------------')\n",
    "            else:    \n",
    "                shareholders_purchase.pop(code)\n",
    "            print('\\nSold Stock Details:\\n')\n",
    "            print(f\"Code: {code}\")\n",
    "            print(f\"Last Sold Date: {date_sold}\")\n",
    "            print(f\"Volume: {shareholders_sold[code][2]}\")\n",
    "            print(f\"Profit/Loss ($): {shareholders_sold[code][3]:0.2f}\")\n",
    "            print('-----------------------------------------------------------')\n",
    "\n",
    "def listHolding(shareholders_purchase):\n",
    "    if not shareholders_purchase:\n",
    "        print(\"No Stocks\")\n",
    "    else:\n",
    "        investemnt = 0\n",
    "        print(\"{0:<8} {1:<10} {2:<18} {3:<10} {4:<10} {5}\".format('Code','Name','Last Buy Date','Price-$','Volume','Investment Cost-$'))\n",
    "        for stocks,value in shareholders_purchase.items():\n",
    "            investemnt+=value[3]*value[2]\n",
    "            print(f\"{stocks:<8} {value[0]:<10} {value[1]:<18} {value[2]:<10.2f} {value[3]:<10} {(value[3]*value[2]):0.2f}\")\n",
    "        print(f\"Total investment cost is ${investemnt:0.2f}\")\n",
    "        print('--------------------------------------')\n",
    "\n",
    "\n",
    "def listSold(shareholders_sold):\n",
    "    if not shareholders_sold:\n",
    "        print(\"No Stocks Sold Yet!\")\n",
    "    else:\n",
    "        total = 0\n",
    "        print(\"{0:<8} {1:<10} {2:<18} {3:<10} {4}\".format('Code','Name','Last Sell Date','Volume','Profit/Loss-$'))\n",
    "        for stocks,value in shareholders_sold.items():\n",
    "            total+=value[3]\n",
    "            print(f\"{stocks:<8} {value[0]:<10} {value[1]:<18} {value[2]:<10.2f} {(value[3]):0.2f}\")\n",
    "        if total>0:\n",
    "            status = f\"Profit of ${total:0.2f}\"\n",
    "        elif total<0:\n",
    "            status = f\"Loss of ${total:0.2f}\"\n",
    "        else:\n",
    "            status = f\"No profit/loss\"\n",
    "        print(f\"To date, you have made {status}\")\n",
    "        print('--------------------------------------')\n",
    "                                 \n",
    "\n",
    "def main():\n",
    "    \n",
    "    shareholders_purchase = {\"3AB\":[\"Telcom\", \"12/07/2018\", 1.55, 3000],\"S12\":[\"S&P\", \"12/08/2018\", 3.25, 2000],\"AE1\":[\"A ENG\", \"04/03/2018\", 1.45, 5000]}\n",
    "    shareholders_sold = {}\n",
    "    \n",
    "    while True:\n",
    "        \n",
    "        option = menu()\n",
    "        \n",
    "        if option==0:\n",
    "            'Program Ended'\n",
    "            break\n",
    "        elif option==1:\n",
    "            listHoldingsandSellingStocls(shareholders_purchase,shareholders_sold)\n",
    "        elif option==2:\n",
    "            buyStock(shareholders_purchase)\n",
    "        elif option==3:\n",
    "            sellStock(shareholders_purchase,shareholders_sold)\n",
    "        elif option==4:\n",
    "            listHolding(shareholders_purchase)\n",
    "        elif option==5:\n",
    "            listSold(shareholders_sold)\n",
    "\n",
    "main()"
   ]
  }
 ],
 "metadata": {
  "kernelspec": {
   "display_name": "Python 3",
   "language": "python",
   "name": "python3"
  },
  "language_info": {
   "codemirror_mode": {
    "name": "ipython",
    "version": 3
   },
   "file_extension": ".py",
   "mimetype": "text/x-python",
   "name": "python",
   "nbconvert_exporter": "python",
   "pygments_lexer": "ipython3",
   "version": "3.7.9"
  }
 },
 "nbformat": 4,
 "nbformat_minor": 4
}
