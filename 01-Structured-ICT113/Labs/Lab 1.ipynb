{
 "cells": [
  {
   "cell_type": "markdown",
   "metadata": {},
   "source": [
    "<br>\n",
    "<h2>Lab 1 Practise</h2>\n",
    "<hr>\n",
    "<br>\n",
    "<br>"
   ]
  },
  {
   "cell_type": "code",
   "execution_count": 54,
   "metadata": {},
   "outputs": [],
   "source": [
    "#Qns 1\n",
    "#The formula to convert temperature in fahrenheit to centigrade.\n",
    "# Write a program that reads an input in fahrenheit and displays the temperature in centigrade."
   ]
  },
  {
   "cell_type": "code",
   "execution_count": 9,
   "metadata": {},
   "outputs": [
    {
     "name": "stdin",
     "output_type": "stream",
     "text": [
      "Enter Tempraature in Fahrenheit :  100\n"
     ]
    },
    {
     "name": "stdout",
     "output_type": "stream",
     "text": [
      "Temperature in Celsius is 37.8\n"
     ]
    }
   ],
   "source": [
    "def far_to_cel():\n",
    "    f=float(input(\"Enter Tempraature in Fahrenheit : \"))\n",
    "    c = (5/9) * ( f - 32)\n",
    "    print('Temperature in Celsius is {0:.1f}'.format(c))\n",
    "\n",
    "far_to_cel()"
   ]
  },
  {
   "cell_type": "code",
   "execution_count": 4,
   "metadata": {},
   "outputs": [],
   "source": [
    "#Qns 2\n",
    "# 2. Write a program that reads 3 numbers and displays the sum and average of these 3 numbers."
   ]
  },
  {
   "cell_type": "code",
   "execution_count": 11,
   "metadata": {},
   "outputs": [
    {
     "name": "stdin",
     "output_type": "stream",
     "text": [
      "Enter a number please :  1\n",
      "Enter a number please :  2\n",
      "Enter a number please :  3\n"
     ]
    },
    {
     "name": "stdout",
     "output_type": "stream",
     "text": [
      "\n",
      "The sum of numbers is 6 and the average is 2.00\n"
     ]
    }
   ],
   "source": [
    "def read():\n",
    "    a=float(input('Enter a number please : '))\n",
    "    b=float(input('Enter a number please : '))\n",
    "    c=float(input('Enter a number please : '))\n",
    "    total = round(sum((a,b,c)))\n",
    "    print(\"\\nThe sum of numbers is {0} and the average is {1:.2f}\".format(total,total/3))\n",
    "read()"
   ]
  },
  {
   "cell_type": "code",
   "execution_count": 12,
   "metadata": {},
   "outputs": [],
   "source": [
    "#Qns 3\n",
    "#Write a program that takes in a 3 digit integer and displays the sum and product of the digits.\n",
    "# E.g. if the number is 123, the sum displayed is 6 and the product is also 6."
   ]
  },
  {
   "cell_type": "code",
   "execution_count": 31,
   "metadata": {},
   "outputs": [
    {
     "name": "stdin",
     "output_type": "stream",
     "text": [
      "Please enter three digit number only :  1 2 3\n"
     ]
    },
    {
     "name": "stdout",
     "output_type": "stream",
     "text": [
      "The sum displayed of number [1, 2, 3] is 6 and the product is 6\n"
     ]
    }
   ],
   "source": [
    "def three_digi():\n",
    "    array = list(map(lambda x:int(x),input(\"Please enter three digit number only : \").split(' ')))\n",
    "    print(\"The sum displayed of number {} is {} and the product is {}\".format(array,sum(array),array[0]*array[1]*array[2]))\n",
    "three_digi()"
   ]
  },
  {
   "cell_type": "code",
   "execution_count": 32,
   "metadata": {},
   "outputs": [],
   "source": [
    "#Qns 4\n",
    "# Write a program that reads in a positive integer representing time in seconds and converts it to hour, minute and seconds.\n",
    "# For example, if the input is 3670 seconds, output 1 hour, 1 minute and 10 seconds."
   ]
  },
  {
   "cell_type": "code",
   "execution_count": 35,
   "metadata": {},
   "outputs": [
    {
     "name": "stdin",
     "output_type": "stream",
     "text": [
      "Please input time in second :  12\n"
     ]
    },
    {
     "name": "stdout",
     "output_type": "stream",
     "text": [
      "12 time entered in seconds is converted into 0 hour, 0 minute, 12 seconds.\n"
     ]
    }
   ],
   "source": [
    "def pos_num():\n",
    "    time=int(input('Please input time in second : '))\n",
    "    h   =time//3600\n",
    "    m   =(time%3600)//60\n",
    "    s   =(time%3600)%60\n",
    "    print(\"{} time entered in seconds is converted into {} hour, {} minute, {} seconds.\".format(time,h,m,s))\n",
    "pos_num()"
   ]
  },
  {
   "cell_type": "code",
   "execution_count": 36,
   "metadata": {},
   "outputs": [],
   "source": [
    "#Qns 5\n",
    "# Write a program that reads an input representing a change which is an amount less than 1 dollar.\n",
    "# The program calculates the change into 50, 10, 5 and 1 cent coins. \n",
    "# The program then displays the number of each coin required for that change. E.g.\n",
    "# Enter change: 47\n",
    "# 50 cent: 0\n",
    "# 10 cent: 4\n",
    "# 5 cent: 1\n",
    "# 1 cent: 2"
   ]
  },
  {
   "cell_type": "code",
   "execution_count": 38,
   "metadata": {},
   "outputs": [
    {
     "name": "stdin",
     "output_type": "stream",
     "text": [
      "Enter change :  96\n"
     ]
    },
    {
     "name": "stdout",
     "output_type": "stream",
     "text": [
      "\n",
      "50 cents = 1\n",
      "10 cents = 4\n",
      "5  cents = 1\n",
      "1  cents = 1\n",
      "    \n"
     ]
    }
   ],
   "source": [
    "def change_con():\n",
    "    \n",
    "    money=int(input(\"Enter change : \"))\n",
    "    \n",
    "    fif=money//50\n",
    "    ten=(money%50)//10\n",
    "    fiv=((money%50)%10)//5\n",
    "    one=((money%50)%10)%5\n",
    "    print(\"\"\"\n",
    "50 cents = {}\n",
    "10 cents = {}\n",
    "5  cents = {}\n",
    "1  cents = {}\n",
    "    \"\"\".format(fif,ten,fiv,one))\n",
    "change_con()"
   ]
  },
  {
   "cell_type": "code",
   "execution_count": 39,
   "metadata": {},
   "outputs": [],
   "source": [
    "#Qns 6\n",
    "# A restaurant is offering meals at 50% discount. A service charge (10%) and GST (7%) apply to the discounted cost.\n",
    "# While the service charge applies to the discounted price, note that the GST calculation is\n",
    "#based on the total of the discounted amount and the service charge.\n",
    "# Write a program that reads in the cost of the meal and displays a detailed receipt. An example is as follows:\n",
    "# Enter meal amount ($): 120\n",
    "# Receipt\n",
    "# Cost of meal: $120.00\n",
    "# 50% discount: $ 60.00\n",
    "# Service charge: $ 6.00\n",
    "# GST: $ 4.62\n",
    "# Total amount: $ 70.62"
   ]
  },
  {
   "cell_type": "code",
   "execution_count": 42,
   "metadata": {},
   "outputs": [
    {
     "name": "stdin",
     "output_type": "stream",
     "text": [
      "Enter meal amount ($):  123\n"
     ]
    },
    {
     "name": "stdout",
     "output_type": "stream",
     "text": [
      "Receipt\n",
      "Cost of meal: $ 123.00 \n",
      "50% discount: $ 61.50  \n",
      "Service charge: $ 6.15 \n",
      "GST: $ 4.74 \n",
      "Total amount: $ 72.39  \n"
     ]
    }
   ],
   "source": [
    "def resturant():\n",
    "    \n",
    "    price=float(input('Enter meal amount ($): '))\n",
    "    disc_price=0.5*price\n",
    "    service_charge=0.1*disc_price\n",
    "    GST=(disc_price+service_charge)*0.07\n",
    "    Total=disc_price+GST+service_charge\n",
    "    print(\"Receipt\")\n",
    "    print(\"Cost of meal: $ {0:<7.2f}\".format(price))\n",
    "    print(\"50% discount: $ {0:<7.2f}\".format(disc_price))\n",
    "    print(\"Service charge: $ {0:<5.2f}\".format(service_charge))\n",
    "    print(\"GST: $ {0:<5.2f}\".format(GST))      \n",
    "    print(\"Total amount: $ {0:<7.2f}\".format(Total))\n",
    "\n",
    "resturant()"
   ]
  },
  {
   "cell_type": "code",
   "execution_count": 55,
   "metadata": {},
   "outputs": [],
   "source": [
    "#Qns 7\n",
    "# 7. The area of a triangle with sides a, b, c can be determined using Heron’s formula.\n",
    "# Write a program that reads the lengths of the sides of a triangle and displays the area.\n",
    "# Assume that input is valid, i.e. the sides are able to form a triangle. "
   ]
  },
  {
   "cell_type": "code",
   "execution_count": 44,
   "metadata": {},
   "outputs": [],
   "source": [
    "from math import sqrt\n",
    "def area_tri():\n",
    "    a=float(input(\"Please enter lenght of first side of triangle: \"))\n",
    "    b=float(input(\"Please enter lenght of first side of triangle: \"))\n",
    "    c=float(input(\"Please enter lenght of first side of triangle: \"))\n",
    "    s=(1/2)*(a+b+c)    \n",
    "    S=sqrt(s*(s-a)*(s-b)*(s-c))\n",
    "    print(\"The area of Triangle is {}\".format(round(S,1)))"
   ]
  },
  {
   "cell_type": "code",
   "execution_count": 46,
   "metadata": {},
   "outputs": [
    {
     "name": "stdin",
     "output_type": "stream",
     "text": [
      "Please enter lenght of first side of triangle:  5\n",
      "Please enter lenght of first side of triangle:  7\n",
      "Please enter lenght of first side of triangle:  9\n"
     ]
    },
    {
     "name": "stdout",
     "output_type": "stream",
     "text": [
      "The area of Triangle is 17.4\n"
     ]
    }
   ],
   "source": [
    "area_tri()"
   ]
  },
  {
   "cell_type": "code",
   "execution_count": 56,
   "metadata": {},
   "outputs": [],
   "source": [
    "#Qns 8\n",
    "#The formula to compute compound interest C for a loan L at the end of n years at i % interest per annum.\n",
    "# Write a program that has 3 inputs – loan amount, duration in years and interest rate."
   ]
  },
  {
   "cell_type": "code",
   "execution_count": 49,
   "metadata": {},
   "outputs": [
    {
     "name": "stdin",
     "output_type": "stream",
     "text": [
      "Please Enter loan amount:  12\n",
      "Please Enter duration in years amount:  3\n",
      "Please Enter interest rate amount:  1\n"
     ]
    },
    {
     "name": "stdout",
     "output_type": "stream",
     "text": [
      "The compound interest is 12.36\n"
     ]
    }
   ],
   "source": [
    "def comp_int():\n",
    "    \n",
    "    L=float(input(\"Please Enter loan amount: \"))\n",
    "    n=float(input(\"Please Enter duration in years amount: \"))\n",
    "    i=float(input(\"Please Enter interest rate amount: \"))    \n",
    "    C=L*((1+(i/100))**n)\n",
    "    print(f\"The compound interest is {C:0.2f}\")\n",
    "comp_int()"
   ]
  },
  {
   "cell_type": "code",
   "execution_count": 51,
   "metadata": {},
   "outputs": [],
   "source": [
    "#Qns 9\n",
    "# 9. Write a program that reads in a time in 24 hr format. The program displays the time after adding 1 second to the time.\n",
    "# Enter current hr: 23\n",
    "# Enter current min: 59\n",
    "# Enter current sec: 59\n",
    "# Clock time is 23:59:59\n",
    "# After 1 second, the time is 00:00:00\n",
    "# Note: hr is between 0 to 23, min 0 to 59, sec 0 to 59.\n",
    "# No if statements to be used for this question."
   ]
  },
  {
   "cell_type": "code",
   "execution_count": 53,
   "metadata": {},
   "outputs": [
    {
     "name": "stdin",
     "output_type": "stream",
     "text": [
      "Enter current hr:  11\n",
      "Enter current min:  59\n",
      "Enter current sec:  59\n"
     ]
    },
    {
     "name": "stdout",
     "output_type": "stream",
     "text": [
      "Clock time is 11:59:59\n",
      "After 1 second, the time is 12:0:0\n"
     ]
    }
   ],
   "source": [
    "def after_time():\n",
    "    \n",
    "    h=int(input(\"Enter current hr: \"))\n",
    "    m=int(input(\"Enter current min: \"))\n",
    "    s=int(input(\"Enter current sec: \"))\n",
    "    print(\"Clock time is {}:{}:{}\".format(h,m,s))\n",
    "    #After one second find the time\n",
    "    s=s+1\n",
    "    carrier=s//60\n",
    "    s=s%60\n",
    "    m+=carrier\n",
    "    carrier=m//60\n",
    "    m=m%60\n",
    "    h+=carrier\n",
    "    h=h%24\n",
    "    print(\"After 1 second, the time is {}:{}:{}\".format(h,m,s))\n",
    "after_time()"
   ]
  }
 ],
 "metadata": {
  "kernelspec": {
   "display_name": "Python 3",
   "language": "python",
   "name": "python3"
  },
  "language_info": {
   "codemirror_mode": {
    "name": "ipython",
    "version": 3
   },
   "file_extension": ".py",
   "mimetype": "text/x-python",
   "name": "python",
   "nbconvert_exporter": "python",
   "pygments_lexer": "ipython3",
   "version": "3.7.9"
  }
 },
 "nbformat": 4,
 "nbformat_minor": 4
}
