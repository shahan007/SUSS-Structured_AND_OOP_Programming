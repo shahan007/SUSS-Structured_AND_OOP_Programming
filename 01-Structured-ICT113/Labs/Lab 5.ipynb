{
 "cells": [
  {
   "cell_type": "markdown",
   "metadata": {},
   "source": [
    "<br>\n",
    "<h2>Lab 5 Practise</h2>\n",
    "<hr>\n",
    "<br>\n",
    "<br>"
   ]
  },
  {
   "cell_type": "markdown",
   "metadata": {},
   "source": [
    "<br>\n",
    "<br>\n",
    "<h3>\n",
    "    Swimming Records - 2d matrix\n",
    "</h3>\n",
    "<br>"
   ]
  },
  {
   "cell_type": "code",
   "execution_count": 48,
   "metadata": {},
   "outputs": [
    {
     "name": "stdout",
     "output_type": "stream",
     "text": [
      "\n",
      "--------------Swimmer Score Display--------------\n",
      "\n",
      "Diver     A1        A2        A3        Total\n",
      "\n",
      "1         7.9       7.8       8.2       23.9\n",
      "2         8.0       8.5       8.4       24.9\n",
      "3         9.0       9.1       9.5       27.6\n",
      "4         9.0       9.2       9.2       27.4\n",
      "5         8.5       8.8       9.0       26.3\n",
      "6         9.7       9.8       9.7       29.2\n",
      "\n",
      "\n",
      "\n",
      "--------------Top 3 Postions--------------\n",
      "\n",
      "Diver   Total   \n",
      "3       54.00   \n",
      "2       53.20   \n",
      "1       52.10   \n",
      "\n",
      "\n",
      "\n",
      "\n",
      "--------------Swimmer Score Display--------------\n",
      "\n",
      "Diver     A1        A2        A3        Total\n",
      "\n",
      "1         7.9       7.8       8.2       15.7\n",
      "2         8.0       8.5       8.4       17.5\n",
      "3         9.0       9.1       9.5       20.1\n",
      "4         9.0       9.2       9.2       21.2\n",
      "5         8.5       8.8       9.0       21.3\n",
      "6         9.7       9.8       9.7       24.5\n"
     ]
    }
   ],
   "source": [
    "#swimmer three rounds scores\n",
    "swimmer_scores = [[7.9,7.8,8.2],[8.0,8.5,8.4],[9.0,9.1,9.5], [9.0,9.2,9.2],[8.5,8.8,9.0],[9.7,9.8,9.7]]\n",
    "\n",
    "def display_swimmers_01(swimmer_scores):    \n",
    "    \n",
    "    \"\"\"\n",
    "    displays tabulated scores of swimmers\n",
    "    \"\"\"\n",
    "    print('\\n--------------Swimmer Score Display--------------\\n')\n",
    "    print(f\"{'Diver':<10}{'A1':<10}{'A2':<10}{'A3':<10}{'Total'}\\n\")    \n",
    "    for i,s in enumerate(swimmer_scores):\n",
    "        print(f\"{i+1:<10}{s[0]:<10}{s[1]:<10}{s[2]:<10}{sum(s)}\")\n",
    "        \n",
    "\n",
    "def top3(swimmer_list):\n",
    "    \n",
    "    \"\"\"\n",
    "    displays top 3 swimmers along with their score\n",
    "    \"\"\"\n",
    "    \n",
    "    total = sorted([(sum(score),i+1) for i,score in enumerate(swimmer_list)],key=lambda x : x[0],reverse=True)    \n",
    "    print(\"--------------Top 3 Postions--------------\\n\")\n",
    "    print(f\"{'Diver':<8}{'Total':<8}\")\n",
    "    for times in range(3):\n",
    "        print(f\"{total[times][1]:<8}{total[times][0]:<8.2f}\")\n",
    "\n",
    "\n",
    "#c data stoed in different format; by rounds\n",
    "swimmer_scores_02 = [ [7.9,8.0,9.0,9.0,8.5,9.7],[7.8,8.5,9.1,9.2,8.8,9.8], [8.2,8.4,9.5,9.2,9.0,9.7] ]\n",
    "def display_swimmers_02(swimmer_scores):\n",
    "    \n",
    "    print('\\n--------------Swimmer Score Display--------------\\n')\n",
    "    print(f\"{'Diver':<10}{'A1':<10}{'A2':<10}{'A3':<10}{'Total'}\\n\")\n",
    "    for t in range(0,6):\n",
    "        f = swimmer_scores[0][t]\n",
    "        s = swimmer_scores[1][t]\n",
    "        th = swimmer_scores[2][t]\n",
    "        total = sum((f,s,t))\n",
    "        print(f\"{t+1:<10}{f:<10}{s:<10}{th:<10}{total}\")\n",
    "\n",
    "        \n",
    "display_swimmers_01(swimmer_scores)\n",
    "print('\\n\\n')\n",
    "top3(scores)\n",
    "print('\\n\\n')\n",
    "display_swimmers_02(swimmer_scores_02)\n",
    "\n"
   ]
  },
  {
   "cell_type": "markdown",
   "metadata": {},
   "source": [
    "<br>"
   ]
  },
  {
   "cell_type": "markdown",
   "metadata": {},
   "source": [
    "<br>\n",
    "<br>\n",
    "<h3>\n",
    "    Recording Game Scores - Show winner\n",
    "</h3>\n",
    "<br>"
   ]
  },
  {
   "cell_type": "code",
   "execution_count": 83,
   "metadata": {},
   "outputs": [
    {
     "name": "stdin",
     "output_type": "stream",
     "text": [
      "Please Enter Player 1 name :  Messi\n",
      "Please Enter Player 1 name :  Mahrez\n",
      "Game 1 score Messi vs Mahrez: 1-0\n",
      "Game 2 score Messi vs Mahrez: 3-0\n",
      "Game 3 score Messi vs Mahrez or press <Enter> to quit: \n"
     ]
    },
    {
     "name": "stdout",
     "output_type": "stream",
     "text": [
      "\n",
      "\n",
      "Player  Messi vs Mahrez\n",
      "Games 1 1-0\n",
      "Games 2 3-0\n",
      "Winner is Player: Messi\n"
     ]
    }
   ],
   "source": [
    "#full game scoring records\n",
    "\n",
    "def getPlayerNames(score):\n",
    "    \n",
    "    player_1 = input(\"Please Enter Player 1 name : \")\n",
    "    player_2 = input(\"Please Enter Player 1 name : \")    \n",
    "    score.append([player_1,player_2])\n",
    "    \n",
    "def inputGameScores(scores):\n",
    "    \n",
    "    game = 1\n",
    "    while game<4:                \n",
    "        score = input(f'Game {game} score {scores[0][0]} vs {scores[0][1]}:')\n",
    "        scores.append(score.split('-'))\n",
    "        game+=1\n",
    "        \n",
    "        if game==3:\n",
    "            score = input(f'Game {game} score {scores[0][0]} vs {scores[0][1]} or press <Enter> to quit:')\n",
    "            if not score:\n",
    "                break\n",
    "            else:\n",
    "                scores.append(score.split('-'))\n",
    "                break\n",
    "\n",
    "def displayGameScore(gameScore):\n",
    "        \n",
    "    p1, p1name = 0, gameScore[0][0]\n",
    "    p2, p2name = 0,  gameScore[0][1]\n",
    "    winner = None\n",
    "    \n",
    "    for g in range(1,len(gameScore)):\n",
    "        if gameScore[g][0] > gameScore[g][1]:\n",
    "            p1+=1\n",
    "        else:\n",
    "            p2+=1\n",
    "    if p1 > p2:\n",
    "        winner= p1name\n",
    "    else:\n",
    "        winner = p2name    \n",
    "        \n",
    "    print(f\"\\n\\nPlayer  {p1name} vs {p2name}\")\n",
    "    for games in range(1,len(gameScore)):\n",
    "        print(f\"Games {games} {gameScore[games][0]}-{gameScore[games][1]}\")\n",
    "    print(f\"Winner is Player: {winner}\")\n",
    "\n",
    "\n",
    "def main():    \n",
    "    score=[]\n",
    "    getPlayerNames(score)\n",
    "    inputGameScores(score)\n",
    "    displayGameScore(score)\n",
    "\n",
    "main()"
   ]
  },
  {
   "cell_type": "markdown",
   "metadata": {},
   "source": [
    "<br>\n",
    "<br>\n",
    "<h3>\n",
    "    Tutorial Groups - Update and Add \n",
    "</h3>\n",
    "<br>"
   ]
  },
  {
   "cell_type": "code",
   "execution_count": 82,
   "metadata": {},
   "outputs": [
    {
     "name": "stdout",
     "output_type": "stream",
     "text": [
      "TG   Size\n",
      "\n",
      "T01  28\n",
      "T02  15\n",
      "T03  28\n",
      "T04  25\n",
      "T05  29\n",
      "T06  22\n",
      "\n",
      "Total Number of students are 147\n",
      "\n",
      "\n",
      "\n",
      "---------------------------\n",
      "\n",
      "\n",
      "\n"
     ]
    },
    {
     "name": "stdin",
     "output_type": "stream",
     "text": [
      "Enter tutorial group: T07\n"
     ]
    },
    {
     "name": "stdout",
     "output_type": "stream",
     "text": [
      "New Tutorial Group.\n"
     ]
    },
    {
     "name": "stdin",
     "output_type": "stream",
     "text": [
      "Enter class size: 23\n"
     ]
    },
    {
     "name": "stdout",
     "output_type": "stream",
     "text": [
      "Tutorial Group T07 added with class size 23\n",
      "\n",
      "\n",
      "\n",
      "---------------------------\n",
      "\n",
      "\n",
      "\n",
      "TG   Size\n",
      "\n",
      "T01  28\n",
      "T02  15\n",
      "T03  28\n",
      "T04  25\n",
      "T05  29\n",
      "T06  22\n",
      "T07  23\n",
      "\n",
      "Total Number of students are 170\n"
     ]
    }
   ],
   "source": [
    "def displayTutorialGroups(tutGP):\n",
    "    \n",
    "    total = 0\n",
    "    print(f\"{'TG':<5}Size\\n\")\n",
    "    for k,v in tutGP.items():\n",
    "        print(f\"{k:<5}{v}\")\n",
    "        total+=v\n",
    "    print(f\"\\nTotal Number of students are {total}\")\n",
    "    \n",
    "def updateTutGroups(tutGp):\n",
    "    \n",
    "    grp_name  = input('Enter tutorial group:')\n",
    "    \n",
    "    if not grp_name in tutGp:\n",
    "        print('New Tutorial Group.')\n",
    "        class_size = input('Enter class size:')\n",
    "        while int(class_size)>30 or int(class_size)<20:\n",
    "            print(f\"Class Size Entered {class_size} must be within 20-30 students\")\n",
    "            class_size = input('Enter class size or <ENTER> to quit:')\n",
    "            if not class_size:\n",
    "                break\n",
    "        if not class_size:\n",
    "            print(\"Task Unsuccessful\")\n",
    "        else:\n",
    "            tutGp[grp_name] = int(class_size)\n",
    "            print(f\"Tutorial Group {grp_name} added with class size {class_size}\")\n",
    "    else:\n",
    "        print(f\"Tutorial group exists. Class size is {tutGp[grp_name]}\")\n",
    "        adju = int(input('Enter size to add/subtract:'))\n",
    "        new_val = tutGp[grp_name] + adju\n",
    "        if new_val>30:\n",
    "            tutGp[grp_name]=30\n",
    "            print(f\"Class Size adjusted to {tutGp[grp_name]}  Max Limit is 30 \")\n",
    "        elif new_val<20:\n",
    "            tutGp[grp_name]=20\n",
    "            print(f\"Class Size adjusted to {tutGp[grp_name]}  Min Limit is 20 \")\n",
    "        else:\n",
    "            tutGp[grp_name] = new_val\n",
    "            print(f\"Class Size adjusted to {tutGp[grp_name]}\")\n",
    "\n",
    "def main():\n",
    "    \n",
    "    tutGp = {'T01':28, 'T02':15, 'T03':28, 'T04':25, 'T05':29, 'T06':22 }\n",
    "    nextline = '\\n\\n\\n---------------------------\\n\\n\\n'    \n",
    "    displayTutorialGroups(tutGp)\n",
    "    print(nextline)\n",
    "    updateTutGroups(tutGp)\n",
    "    print(nextline)\n",
    "    displayTutorialGroups(tutGp)\n",
    "\n",
    "main()\n",
    "    "
   ]
  },
  {
   "cell_type": "markdown",
   "metadata": {},
   "source": [
    "<br>\n",
    "<br>\n",
    "<h3>\n",
    "    Multiplication Table for nth value from 1 till 10\n",
    "</h3>\n",
    "<br>"
   ]
  },
  {
   "cell_type": "code",
   "execution_count": 69,
   "metadata": {},
   "outputs": [
    {
     "name": "stdin",
     "output_type": "stream",
     "text": [
      "Enter Number:  11\n"
     ]
    },
    {
     "name": "stdout",
     "output_type": "stream",
     "text": [
      "\n",
      "Multiplication\n",
      "\n",
      " 1 x 11 = 11\n",
      " 2 x 11 = 22\n",
      " 3 x 11 = 33\n",
      " 4 x 11 = 44\n",
      " 5 x 11 = 55\n",
      " 6 x 11 = 66\n",
      " 7 x 11 = 77\n",
      " 8 x 11 = 88\n",
      " 9 x 11 = 99\n",
      "10 x 11 = 110\n"
     ]
    }
   ],
   "source": [
    "def multiplicationTable():\n",
    "    #assume valid entry\n",
    "    number = int(input(\"Enter Number: \").strip())    \n",
    "    print(f\"\\nMultiplication\\n\")\n",
    "    for n in range(1,11):\n",
    "        print(f\"{n:2} x {number} = {number*n}\")\n",
    "multiplicationTable()"
   ]
  },
  {
   "cell_type": "markdown",
   "metadata": {},
   "source": [
    "<br>\n",
    "<br>\n",
    "<h3>\n",
    "    Guess if heads or tails ?\n",
    "</h3>\n",
    "<br>"
   ]
  },
  {
   "cell_type": "code",
   "execution_count": 66,
   "metadata": {},
   "outputs": [
    {
     "name": "stdin",
     "output_type": "stream",
     "text": [
      "Head or Tail (H or T): t\n"
     ]
    },
    {
     "name": "stdout",
     "output_type": "stream",
     "text": [
      "Wrong!\n"
     ]
    },
    {
     "name": "stdin",
     "output_type": "stream",
     "text": [
      "Head or Tail (H or T): t\n"
     ]
    },
    {
     "name": "stdout",
     "output_type": "stream",
     "text": [
      "Correct!\n",
      "You got it in 2 ties!\n"
     ]
    },
    {
     "name": "stdin",
     "output_type": "stream",
     "text": [
      "Play again? (y/n): n\n"
     ]
    }
   ],
   "source": [
    "from random import choice\n",
    "\n",
    "def askGuess():\n",
    "    \n",
    "    h_or_t = input('Head or Tail (H or T):').upper()\n",
    "    return h_or_t\n",
    "    \n",
    "def checkGuess(correct,guess,tries):\n",
    "    \n",
    "    if correct == guess:\n",
    "        print(f'Correct!\\nYou got it in {tries} ties!')\n",
    "        return True\n",
    "    else:\n",
    "        print(\"Wrong!\")\n",
    "        return False    \n",
    "    \n",
    "def replay():\n",
    "    \n",
    "    play = input('Play again? (y/n):').lower()\n",
    "    \n",
    "    while play[0]!='y' and play[0]!='n':\n",
    "        print(\"Invalid Entry!\")\n",
    "        play = input('Play again? (y/n):').lower()\n",
    "    if play[0]=='y':\n",
    "        return True\n",
    "    return False\n",
    "\n",
    "def main():\n",
    "    \n",
    "    while True:        \n",
    "        tries = 1\n",
    "        while True:\n",
    "            correct = choice(['H','T'])\n",
    "            h_or_t = askGuess()\n",
    "            if checkGuess(correct,h_or_t,tries):\n",
    "                break\n",
    "            tries+=1\n",
    "        if not replay():\n",
    "            break\n",
    "            \n",
    "main()"
   ]
  }
 ],
 "metadata": {
  "kernelspec": {
   "display_name": "Python 3",
   "language": "python",
   "name": "python3"
  },
  "language_info": {
   "codemirror_mode": {
    "name": "ipython",
    "version": 3
   },
   "file_extension": ".py",
   "mimetype": "text/x-python",
   "name": "python",
   "nbconvert_exporter": "python",
   "pygments_lexer": "ipython3",
   "version": "3.7.9"
  }
 },
 "nbformat": 4,
 "nbformat_minor": 4
}
