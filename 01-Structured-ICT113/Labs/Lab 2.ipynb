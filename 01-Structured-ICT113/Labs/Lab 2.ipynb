{
 "cells": [
  {
   "cell_type": "markdown",
   "metadata": {},
   "source": [
    "<br>\n",
    "<h2>Lab 2 Practise</h2>\n",
    "<hr>\n",
    "<br>\n",
    "<br>"
   ]
  },
  {
   "cell_type": "code",
   "execution_count": 1,
   "metadata": {},
   "outputs": [],
   "source": [
    "#Qns 1 (Assume input is valid)\n",
    "# Write a program that reads in an email address, e.g. joe@suss.edu.sg. \n",
    "# Display the name and the organisation on separate lines. Example:\n",
    "# Input email address: joe@suss.edu.sg\n",
    "# Name is joe\n",
    "# Organisation is suss.edu.sg"
   ]
  },
  {
   "cell_type": "code",
   "execution_count": 4,
   "metadata": {},
   "outputs": [
    {
     "name": "stdin",
     "output_type": "stream",
     "text": [
      "Input email address:  asda_12e@otkut.com\n"
     ]
    },
    {
     "name": "stdout",
     "output_type": "stream",
     "text": [
      "Name is asda_12e\n",
      "Organisation is otkut.com\n"
     ]
    }
   ],
   "source": [
    "def mail():\n",
    "    e= input('Input email address: ')\n",
    "    l= e.partition('@')\n",
    "    print(f\"Name is {l[0]}\")\n",
    "    print(f'Organisation is {l[2]}')\n",
    "mail()"
   ]
  },
  {
   "cell_type": "code",
   "execution_count": 9,
   "metadata": {},
   "outputs": [],
   "source": [
    "#Qns 2\n",
    "# Write a program that reads in a string input consisting of 2 words with a blank in between.\n",
    "# The program displays each of the word in reverse. Example:\n",
    "# Enter string: java python\n",
    "# Output: avaj nohtyp"
   ]
  },
  {
   "cell_type": "code",
   "execution_count": 13,
   "metadata": {},
   "outputs": [
    {
     "name": "stdin",
     "output_type": "stream",
     "text": [
      "Enter string:  java python\n"
     ]
    },
    {
     "name": "stdout",
     "output_type": "stream",
     "text": [
      "Output: avaj nohtyp\n"
     ]
    }
   ],
   "source": [
    "def reverse_string():\n",
    "    s = input(\"Enter string: \")\n",
    "    f,l = s.split(' ')\n",
    "    print(f'Output: {f[::-1] + \" \" + l[::-1]}')\n",
    "reverse_string()"
   ]
  },
  {
   "cell_type": "code",
   "execution_count": 15,
   "metadata": {},
   "outputs": [],
   "source": [
    "#Qns 3\n",
    "# (if…else) Write a program that reads in 2 integer values. Display one of the following messages:\n",
    "# “The 2 numbers are the same”\n",
    "# “The 2 numbers are not the same”"
   ]
  },
  {
   "cell_type": "code",
   "execution_count": 17,
   "metadata": {},
   "outputs": [
    {
     "name": "stdout",
     "output_type": "stream",
     "text": [
      "The 2 numbers are different\n"
     ]
    }
   ],
   "source": [
    "def two_val(x,y):\n",
    "    if x==y:\n",
    "        print(\"The 2 numbers are the same\")\n",
    "    else:\n",
    "        print(\"The 2 numbers are different\")\n",
    "two_val(2,3)"
   ]
  },
  {
   "cell_type": "code",
   "execution_count": 19,
   "metadata": {},
   "outputs": [],
   "source": [
    "#Qns 4\n",
    "# (String, if…else) Write a program that reads a string and checks whether it is a palindrome.\n",
    "# It displays either the message palindrome or the message not a palindrome. \n",
    "# A palindrome is a word that spells the same backwards,\n",
    "# e.g., the word solos is a palindrome."
   ]
  },
  {
   "cell_type": "code",
   "execution_count": 21,
   "metadata": {},
   "outputs": [
    {
     "name": "stdin",
     "output_type": "stream",
     "text": [
      "Enter the string :  racecar\n"
     ]
    },
    {
     "name": "stdout",
     "output_type": "stream",
     "text": [
      "The word racecar is a palindrome\n"
     ]
    }
   ],
   "source": [
    "def palindrome():\n",
    "    st=input(\"Enter the string : \")\n",
    "    if st==st[::-1]:\n",
    "        print(\"The word {} is a palindrome\".format(st))\n",
    "    else:\n",
    "        print(f\"The word {st} is not a palindrome\")\n",
    "palindrome()"
   ]
  },
  {
   "cell_type": "code",
   "execution_count": 25,
   "metadata": {},
   "outputs": [],
   "source": [
    "#Qns 5\n",
    "# (if…else) A telco charges the following for usage of data in a foreign country:\n",
    "# Data Rate Up to 2GB; $5 flat; Above 2GB $5 + $1 for every 100MB or part thereof"
   ]
  },
  {
   "cell_type": "code",
   "execution_count": 37,
   "metadata": {},
   "outputs": [
    {
     "name": "stdin",
     "output_type": "stream",
     "text": [
      "Amount of data used (GB):  2.45\n"
     ]
    },
    {
     "name": "stdout",
     "output_type": "stream",
     "text": [
      "Charge is 10\n"
     ]
    }
   ],
   "source": [
    "from math import ceil\n",
    "def telco_charge():\n",
    "    data=float(input(\"Amount of data used (GB): \"))\n",
    "    if data<=2:\n",
    "        print(\"Charge is $5.00\")\n",
    "    else:        \n",
    "        burst=5+ceil((data-2)*10)\n",
    "        print(f\"Charge is {burst}\")\n",
    "\n",
    "telco_charge()"
   ]
  },
  {
   "cell_type": "code",
   "execution_count": 38,
   "metadata": {},
   "outputs": [],
   "source": [
    "#Qns 6\n",
    "# (if…elif…else) Write a program that determines whether two integers are even or odd.\n",
    "# Display one of the following messages:\n",
    "# - “The 2 numbers are even”\n",
    "# - “The 2 numbers are odd”\n",
    "# - “One number is even and the other is odd”"
   ]
  },
  {
   "cell_type": "code",
   "execution_count": 39,
   "metadata": {},
   "outputs": [
    {
     "name": "stdout",
     "output_type": "stream",
     "text": [
      "The two numbers are odd\n"
     ]
    }
   ],
   "source": [
    "def o_e(x,y):\n",
    "    if x%2==0 and y%2==0:\n",
    "        print(\"The two numbers are even\")\n",
    "    elif x%2!=0 and y%2!=0:\n",
    "        print(\"The two numbers are odd\")\n",
    "    else:\n",
    "        print('One number is even and the other is odd')\n",
    "        \n",
    "o_e(13,7)    "
   ]
  },
  {
   "cell_type": "code",
   "execution_count": 40,
   "metadata": {},
   "outputs": [],
   "source": [
    "#Qns 7\n",
    "# (String, if…elif…else) Singapore NRIC numbers have the following format #0000000@, where\n",
    "# - length of the NRIC is 9\n",
    "# - # is a letter that can be \"S\", \"T\", \"F\" or \"G\"\n",
    "# - followed by 7 digits\n",
    "# - @ is any reference letter A to Z or a to z\n",
    "# Write a program that inputs a NRIC number and displays whether a NRIC is valid. \n",
    "# Display “Valid NRIC” or, if it is invalid, one of the following error messages:\n",
    "# - Length must be exactly 9\n",
    "# - The first letter must be S, T, F or G\n",
    "# - Must consist of 7 digits\n",
    "# - Reference letter must be A to Z or a to z\n",
    "# Example,\n",
    "# Run 1\n",
    "# Enter NRIC: S1234567A\n",
    "# Valid NRIC\n",
    "# Run 2\n",
    "# Enter NRIC: X123456789B\n",
    "# Length must be exactly 9\n",
    "# Run 3\n",
    "# Enter NRIC: S12345XXB\n",
    "# Must consist of 7 digits"
   ]
  },
  {
   "cell_type": "code",
   "execution_count": 48,
   "metadata": {},
   "outputs": [
    {
     "name": "stdin",
     "output_type": "stream",
     "text": [
      "Enter NRIC:  S12345XXB\n"
     ]
    },
    {
     "name": "stdout",
     "output_type": "stream",
     "text": [
      "Must consist of 7 digits\n"
     ]
    }
   ],
   "source": [
    "def valid_nric():\n",
    "    nric=input(\"Enter NRIC: \").strip()\n",
    "    if len(nric)!=9:\n",
    "        print('Length must be exactly 9')\n",
    "    elif not nric[1:8].isdigit():\n",
    "        print('Must consist of 7 digits')\n",
    "    elif not nric[0] in 'STFG':\n",
    "        print(\"First Chracter must be S/T/F/G\")        \n",
    "    elif not nric[-1].isalpha():\n",
    "        print('Last Chracter must be an alphabet')\n",
    "    else:\n",
    "        print(\"Valid Nric\")\n",
    "\n",
    "valid_nric()"
   ]
  },
  {
   "cell_type": "code",
   "execution_count": 50,
   "metadata": {},
   "outputs": [],
   "source": [
    "#Qns 8\n",
    "#(if…elif…else) Modify the program in question 2 with the following rate:\n",
    "# Data Rate Up to 2GB; $5 flat; Above 2GB $5 + $1 for every 100MB or part thereof\n",
    "# Above 4GB; $25 flat"
   ]
  },
  {
   "cell_type": "code",
   "execution_count": 55,
   "metadata": {},
   "outputs": [
    {
     "name": "stdin",
     "output_type": "stream",
     "text": [
      "Amount of data used (GB):  3.91\n"
     ]
    },
    {
     "name": "stdout",
     "output_type": "stream",
     "text": [
      "Charge is $25\n"
     ]
    }
   ],
   "source": [
    "from math import ceil\n",
    "\n",
    "def telco_charge_pl():\n",
    "    data=float(input(\"Amount of data used (GB): \"))\n",
    "    if data<=0:\n",
    "        print(\"INPUT INVALID!\")\n",
    "    elif data<=2:\n",
    "        print(\"Charge is $5.00\")\n",
    "    elif 2<data<4:        \n",
    "        burst=5 + ceil((data-2)*10)\n",
    "        print(f\"Charge is ${burst}\")\n",
    "    elif data>=4:\n",
    "        print('Charge is $25')\n",
    "telco_charge_pl()"
   ]
  },
  {
   "cell_type": "code",
   "execution_count": 56,
   "metadata": {},
   "outputs": [],
   "source": [
    "#Qns 9 (Assume that the numeric values are valid, but the the operator may be invalid)\n",
    "# Write a simple calculator program that performs arithmetic operation on 2 numbers.\n",
    "# Input consists of 3 values, separated by an arithmetic operator, in the following format:\n",
    "# float operator float where float is any decimal number and operator is either +, -, *, /.\n",
    "# Run 1\n",
    "# Enter arithmetic expression: 23.6+33.2\n",
    "# Result: 56.8"
   ]
  },
  {
   "cell_type": "code",
   "execution_count": 64,
   "metadata": {},
   "outputs": [
    {
     "name": "stdin",
     "output_type": "stream",
     "text": [
      "Enter arithmetic expression:  1 + 2\n"
     ]
    },
    {
     "name": "stdout",
     "output_type": "stream",
     "text": [
      "3\n"
     ]
    }
   ],
   "source": [
    "def cal_exp():\n",
    "    expression = input(\"Enter arithmetic expression: \").strip()\n",
    "    if '+' in expression or '-' in expression or '/' in expression or '*' in expression:\n",
    "        print(round(eval(expression),1))\n",
    "    else:\n",
    "        print('Invalid arithmetic operator')\n",
    "\n",
    "cal_exp()      "
   ]
  },
  {
   "cell_type": "code",
   "execution_count": 73,
   "metadata": {},
   "outputs": [],
   "source": [
    "#Qns 10\n",
    "# Write a triangle checker program that reads in the 3 sides of a triangle.\n",
    "# If the values can form a triangle, print the type of triangle according to the table below.\n",
    "# All 3 sides are equal\n",
    "# equilateral\n",
    "# Any two sides are equal\n",
    "# isosceles\n",
    "# All 3 are unequal\n",
    "# scalene"
   ]
  },
  {
   "cell_type": "code",
   "execution_count": 74,
   "metadata": {},
   "outputs": [
    {
     "name": "stdin",
     "output_type": "stream",
     "text": [
      "Enter lenth of first side  :  100\n",
      "Enter lenth of second side :  0.1\n",
      "Enter lenth of third side  :  0.00021\n"
     ]
    },
    {
     "name": "stdout",
     "output_type": "stream",
     "text": [
      "Triangle Cannot be Formed\n"
     ]
    }
   ],
   "source": [
    "def triangle():\n",
    "    a=float(input('Enter lenth of first side  : '))\n",
    "    b=float(input('Enter lenth of second side : '))\n",
    "    c=float(input('Enter lenth of third side  : '))\n",
    "    \n",
    "    if sum((a,b))>1/3 and sum((a,c))>1/3 and sum((b,c))>1/3:\n",
    "        if a==b and b==c :\n",
    "            print('Equilateral Triangle is formed !')\n",
    "        elif a!=b and b!=c and a!=c:\n",
    "            print(\"Scalene Triangle is formed !\")\n",
    "        else:\n",
    "            print(\"Isosceles Triangle is formed !\")\n",
    "    else:\n",
    "        print(\"Triangle Cannot be Formed\")\n",
    "\n",
    "triangle()"
   ]
  },
  {
   "cell_type": "code",
   "execution_count": 75,
   "metadata": {},
   "outputs": [],
   "source": [
    "#Qns 10"
   ]
  },
  {
   "cell_type": "code",
   "execution_count": 76,
   "metadata": {},
   "outputs": [
    {
     "name": "stdin",
     "output_type": "stream",
     "text": [
      "Enter Amount :  10\n"
     ]
    },
    {
     "name": "stdout",
     "output_type": "stream",
     "text": [
      "Please pay $10.00. No instalment plan.\n"
     ]
    }
   ],
   "source": [
    "def compute():\n",
    "    amount=float(input(\"Enter Amount : \"))\n",
    "    if amount<1000:\n",
    "        print(f'Please pay ${amount:0.2f}. No instalment plan.')\n",
    "    elif amount>=1000:\n",
    "        pay=input('Pay in 0, 6 or 12 month instalment:')\n",
    "        if pay=='0':\n",
    "            print(f\"Please pay ${amount:0.2f}. No instalment plan.\")            \n",
    "        elif pay=='6':\n",
    "            amount=(1.05*amount)/6\n",
    "            print(f\"6 month instalment plan of ${amount:0.2f} per month\")\n",
    "        elif pay=='12':\n",
    "            amount=(1.10*amount)/12\n",
    "            print(f\"12 month instalment plan of ${amount:0.2f} per month\")\n",
    "\n",
    "compute()            "
   ]
  }
 ],
 "metadata": {
  "kernelspec": {
   "display_name": "Python 3",
   "language": "python",
   "name": "python3"
  },
  "language_info": {
   "codemirror_mode": {
    "name": "ipython",
    "version": 3
   },
   "file_extension": ".py",
   "mimetype": "text/x-python",
   "name": "python",
   "nbconvert_exporter": "python",
   "pygments_lexer": "ipython3",
   "version": "3.7.9"
  }
 },
 "nbformat": 4,
 "nbformat_minor": 4
}
